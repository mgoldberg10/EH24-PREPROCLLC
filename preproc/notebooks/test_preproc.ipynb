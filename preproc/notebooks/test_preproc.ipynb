{
 "cells": [
  {
   "cell_type": "markdown",
   "id": "502df1b8-5f0b-44f0-9db9-59ebb6664d85",
   "metadata": {},
   "source": [
    "# Test preprocessor module"
   ]
  },
  {
   "cell_type": "code",
   "execution_count": null,
   "id": "2ccb6f6f-0646-4761-9336-a60d8dc0e05e",
   "metadata": {},
   "outputs": [],
   "source": [
    "import numpy as np\n",
    "from preproc import InSituPreprocessor\n",
    "%load_ext autoreload\n",
    "%autoreload 2"
   ]
  },
  {
   "cell_type": "code",
   "execution_count": null,
   "id": "a03a434d-458f-4673-8283-311363b597dd",
   "metadata": {},
   "outputs": [],
   "source": [
    "# fastest way for me to get a ds on this machine\n",
    "import sys\n",
    "sys.path.append('/efs_ecco/mgoldber/project/EH24-PREPROCLLC/scripts')\n",
    "from get_ds import get_ds\n",
    "grid_ds = get_ds()"
   ]
  },
  {
   "cell_type": "markdown",
   "id": "9f5968fc-1475-49bc-989e-b75d9af50bd5",
   "metadata": {},
   "source": [
    "Look at dimension attributes"
   ]
  },
  {
   "cell_type": "code",
   "execution_count": null,
   "id": "e1323fa1-7034-407f-ad2c-aacdfce888f0",
   "metadata": {},
   "outputs": [],
   "source": [
    "pkgs = ['profiles', 'obsfit']\n",
    "for pkg in pkgs:\n",
    "    ISP = InSituPreprocessor(pkg, grid_ds)\n",
    "    print(ISP.dims_spatial, ISP.dims_interp, ISP.dims_depth)"
   ]
  },
  {
   "cell_type": "markdown",
   "id": "4097bbf7-1623-425b-89d8-9dc4582bc12f",
   "metadata": {},
   "source": [
    "Test modules with random observation locations"
   ]
  },
  {
   "cell_type": "code",
   "execution_count": null,
   "id": "bc878f0d-a09c-49e5-911b-e1873d8a6e73",
   "metadata": {},
   "outputs": [],
   "source": [
    "def generate_random_points(nobs, lon_range=(-180, 180), lat_range=(60, 90)):\n",
    "    lons = np.random.uniform(low=lon_range[0], high=lon_range[1], size=nobs)\n",
    "    lats = np.random.uniform(low=lat_range[0], high=lat_range[1], size=nobs)\n",
    "    return lons, lats\n",
    "\n",
    "nobs = 10\n",
    "ungridded_lons, ungridded_lats = generate_random_points(nobs)\n",
    "ISP = InSituPreprocessor('obsfit', grid_ds, grid='llc')\n",
    "ISP.get_obs_point(ungridded_lons, ungridded_lats)\n",
    "ISP.get_sample_interp_info()\n"
   ]
  },
  {
   "cell_type": "code",
   "execution_count": null,
   "id": "43c82510-59ad-48d3-98f7-ed1594352645",
   "metadata": {},
   "outputs": [],
   "source": [
    "print(ISP.ds)"
   ]
  },
  {
   "cell_type": "markdown",
   "id": "34cfc9d0-2e15-418a-b0f9-a41991ddca43",
   "metadata": {},
   "source": [
    "From here, one can save the object to netcdf\n",
    "```\n",
    "insitu_obj = ISP.ds.copy()\n",
    "dir_out = '/path/to/insitu/dir/'\n",
    "fout_out = 'insitu_obj.nc'\n",
    "insitu_obj.to_netcdf(dir_out + fout)\n",
    "```"
   ]
  },
  {
   "cell_type": "code",
   "execution_count": null,
   "id": "ec960f99-bfd8-46b1-ac4c-e63375816aa3",
   "metadata": {},
   "outputs": [],
   "source": [
    "from ecco_v4_py.tile_plot import *\n",
    "_, XC_wm = plot_tiles(ds.XC, layout='latlon', rotate_to_latlon=True, show_tile_labels=False,\n",
    "                      show_colorbar=True)\n",
    "\n",
    "                      \n"
   ]
  },
  {
   "cell_type": "code",
   "execution_count": null,
   "id": "cebc6879-91ed-4251-9416-1724b7cdecdf",
   "metadata": {},
   "outputs": [],
   "source": []
  }
 ],
 "metadata": {
  "kernelspec": {
   "display_name": "Python 3 (ipykernel)",
   "language": "python",
   "name": "python3"
  },
  "language_info": {
   "codemirror_mode": {
    "name": "ipython",
    "version": 3
   },
   "file_extension": ".py",
   "mimetype": "text/x-python",
   "name": "python",
   "nbconvert_exporter": "python",
   "pygments_lexer": "ipython3",
   "version": "3.11.9"
  }
 },
 "nbformat": 4,
 "nbformat_minor": 5
}
